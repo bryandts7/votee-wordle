{
 "cells": [
  {
   "cell_type": "code",
   "execution_count": 3,
   "metadata": {},
   "outputs": [],
   "source": [
    "import requests\n",
    "import random\n",
    "import string"
   ]
  },
  {
   "cell_type": "code",
   "execution_count": 24,
   "metadata": {},
   "outputs": [],
   "source": [
    "res = requests.get(\"https://wordle.votee.dev:8000/word/sieges?guess=sicks\")"
   ]
  },
  {
   "cell_type": "code",
   "execution_count": 30,
   "metadata": {},
   "outputs": [
    {
     "data": {
      "text/plain": [
       "b'Guess must be the same length as the word'"
      ]
     },
     "execution_count": 30,
     "metadata": {},
     "output_type": "execute_result"
    }
   ],
   "source": [
    "res.content"
   ]
  },
  {
   "cell_type": "code",
   "execution_count": 72,
   "metadata": {},
   "outputs": [],
   "source": [
    "BASE_URL = \"https://wordle.votee.dev:8000/\"\n",
    "LIMIT_ATTEMPTS = 100\n",
    "\n",
    "class WordleSolver:\n",
    "    def __init__(self, size):\n",
    "        self.size = size\n",
    "        self.correct = [None] * self.size\n",
    "        self.present = {}\n",
    "        self.absent = set()\n",
    "        self.attempts = []\n",
    "    \n",
    "    def process_feedback(self, feedback):\n",
    "        new_absent = set()\n",
    "        for res in feedback:\n",
    "            char = res['guess'].lower()\n",
    "            slot = res['slot']\n",
    "            result =res['result']\n",
    "\n",
    "            if result == 'correct':\n",
    "                self.correct[slot] = char\n",
    "                #if char in self.present:\n",
    "                #    del self.present[char]\n",
    "            \n",
    "            elif result == 'present':\n",
    "                if char not in self.present:\n",
    "                    self.present[char] = set()\n",
    "                self.present[char].add(slot)\n",
    "                if char in self.absent:\n",
    "                    self.absent.remove(char)\n",
    "            \n",
    "            elif result == 'absent':\n",
    "                if all(char != c for c in self.correct if c) and char not in self.present:\n",
    "                    new_absent.add(char)\n",
    "            \n",
    "        self.absent.update(new_absent)\n",
    "\n",
    "    def generate_guess(self):\n",
    "        # Start with the correct letters\n",
    "        guess = list(self.correct)\n",
    "        remaining_slots = [i for i, c in enumerate(guess) if c is None]\n",
    "\n",
    "        # Shuffle for avoiding patterns\n",
    "        random.shuffle(remaining_slots)\n",
    "        present_chars = [c for c in self.present if c not in guess]\n",
    "\n",
    "        # Place present characters\n",
    "        for char in present_chars:\n",
    "            allowed_slots = [s for s in remaining_slots if s not in self.present.get(char, set())]\n",
    "            if allowed_slots:\n",
    "                slot = random.choice(allowed_slots)\n",
    "                guess[slot] = char\n",
    "                remaining_slots.remove(slot)\n",
    "\n",
    "        # Fill remaining slots with valid alphabets\n",
    "        for slot in remaining_slots:\n",
    "            valid_chars = [c for c in string.ascii_lowercase if c not in self.absent and c not in guess]\n",
    "            try:\n",
    "                guess[slot] = random.choice(valid_chars) if valid_chars else random.choice([i for i in self.correct if i is not None])\n",
    "            except:\n",
    "                guess[slot] = random.choice(valid_chars) if valid_chars else random.choice(string.ascii_lowercase)\n",
    "        return ''.join(guess)\n",
    "\n",
    "    def solve_daily(self):\n",
    "        attempts = 0\n",
    "        while attempts < LIMIT_ATTEMPTS:\n",
    "            attempts += 1\n",
    "            guess = self.generate_guess().lower()\n",
    "\n",
    "            # Skip duplicate guesses\n",
    "            if guess in self.attempts:\n",
    "                continue\n",
    "\n",
    "            print(f\"Attempt {attempts}: {guess}\")\n",
    "            \n",
    "            response = requests.get(f\"{BASE_URL}/daily\", params={\"guess\": guess, \"size\":self.size})\n",
    "\n",
    "            if response.status_code == 200:\n",
    "                feedback = response.json()\n",
    "                self.attempts.append(guess)\n",
    "                self.process_feedback(feedback)\n",
    "\n",
    "                if all(c is not None for c in self.correct):\n",
    "                    print(f\"\\nSolved in {attempts} attempts!\")\n",
    "                    print(f\"Final Answer: {''.join(self.correct).lower()}\")\n",
    "                    return True\n",
    "            \n",
    "            else:\n",
    "                print(f\"Error Status Code: {response.status_code}\")\n",
    "                print(f\"Error detail: {response.content}\")\n",
    "                break\n",
    "        \n",
    "        print(f\"\\nFailed to solve within {attempts} attempts\")\n",
    "        return False\n",
    "\n",
    "\n",
    "    def solve_random(self):\n",
    "        seed = random.randint(0,1000)\n",
    "        attempts = 0\n",
    "        while attempts < LIMIT_ATTEMPTS:\n",
    "            attempts += 1\n",
    "            guess = self.generate_guess().lower()\n",
    "\n",
    "            # Skip duplicate guesses\n",
    "            if guess in self.attempts:\n",
    "                continue\n",
    "\n",
    "            print(f\"Attempt {attempts}: {guess}\")\n",
    "            \n",
    "            response = requests.get(f\"{BASE_URL}/random\", params={\"guess\": guess, \"size\":self.size, \"seed\":seed})\n",
    "\n",
    "            if response.status_code == 200:\n",
    "                feedback = response.json()\n",
    "                self.attempts.append(guess)\n",
    "                self.process_feedback(feedback)\n",
    "\n",
    "                if all(c is not None for c in self.correct):\n",
    "                    print(f\"\\nSolved in {attempts} attempts!\")\n",
    "                    print(f\"Final Answer: {''.join(self.correct).lower()}\")\n",
    "                    return True\n",
    "            \n",
    "            else:\n",
    "                print(f\"Error Status Code: {response.status_code}\")\n",
    "                print(f\"Error detail: {response.content}\")\n",
    "                break\n",
    "        \n",
    "        print(f\"\\nFailed to solve within {attempts} attempts\")\n",
    "        return False\n",
    "\n",
    "\n",
    "    def solve_word(self, word):\n",
    "        attempts = 0\n",
    "        while attempts < LIMIT_ATTEMPTS:\n",
    "            attempts += 1\n",
    "            guess = self.generate_guess().lower()\n",
    "\n",
    "            # Skip duplicate guesses\n",
    "            if guess in self.attempts:\n",
    "                continue\n",
    "\n",
    "            print(f\"Attempt {attempts}: {guess}\")\n",
    "            response = requests.get(f\"{BASE_URL}/word/{word}\", params={\"guess\": guess, \"size\":self.size})\n",
    "\n",
    "            if response.status_code == 200:\n",
    "                feedback = response.json()\n",
    "                self.attempts.append(guess)\n",
    "                self.process_feedback(feedback)\n",
    "\n",
    "                if all(c is not None for c in self.correct):\n",
    "                    print(f\"\\nSolved in {attempts} attempts!\")\n",
    "                    print(f\"Final Answer: {''.join(self.correct).lower()}\")\n",
    "                    return True\n",
    "            \n",
    "            else:\n",
    "                print(f\"Error Status Code: {response.status_code}\")\n",
    "                print(f\"Error detail: {response.content}\")\n",
    "                break\n",
    "        \n",
    "        print(f\"\\nFailed to solve within {attempts} attempts\")\n",
    "        return False\n",
    "\n"
   ]
  },
  {
   "cell_type": "code",
   "execution_count": null,
   "metadata": {},
   "outputs": [
    {
     "name": "stdout",
     "output_type": "stream",
     "text": [
      "Attempt 1: smjiconryhpfbazt\n",
      "Attempt 2: xgkcioehydwpqvsl\n",
      "Attempt 3: cyuccoohyogsiylp\n",
      "Attempt 4: gooclohhycohsipc\n",
      "Attempt 5: ichchohhypsclgyc\n",
      "Attempt 6: ylpchoohyhlilygs\n",
      "Attempt 7: lihchoshyhoolpgo\n",
      "Attempt 8: plichoyhyscolhgg\n",
      "Attempt 9: pghchochysiolhgo\n",
      "Attempt 10: pipchoshysiologh\n",
      "Attempt 11: pcgchoihysiologg\n",
      "Attempt 12: phycholhysiologo\n",
      "Attempt 13: ppychoyhysiologo\n",
      "Attempt 14: piychohhysiologo\n",
      "Attempt 15: poychohhysiologo\n",
      "Attempt 16: piychoohysiologo\n",
      "Attempt 17: poychoyhysiology\n",
      "Attempt 18: psychoohysiology\n",
      "Attempt 19: psychoghysiology\n",
      "Attempt 20: psychohhysiology\n",
      "Attempt 21: psychophysiology\n",
      "\n",
      "Solved in 21 attempts!\n",
      "Final Answer: psychophysiology\n"
     ]
    },
    {
     "data": {
      "text/plain": [
       "True"
      ]
     },
     "execution_count": 74,
     "metadata": {},
     "output_type": "execute_result"
    }
   ],
   "source": [
    "solver = WordleSolver(size=16)\n",
    "solver.solve_random()"
   ]
  },
  {
   "cell_type": "code",
   "execution_count": 71,
   "metadata": {},
   "outputs": [
    {
     "name": "stdout",
     "output_type": "stream",
     "text": [
      "Attempt 1: veiwtrgpscbxom\n",
      "Attempt 2: fcpqiaherjosln\n",
      "Attempt 3: cherpasldikyuo\n",
      "Attempt 4: epcosalzyrihda\n",
      "Attempt 5: yadhsaerlocidp\n",
      "Attempt 6: orylsaadchpide\n",
      "Attempt 7: rohcsayipelide\n",
      "Attempt 8: horlsacaapyide\n",
      "Attempt 9: pooysacehlride\n",
      "Attempt 10: polysacdhoride\n",
      "Attempt 11: polysaclheride\n",
      "Attempt 12: polysacphlride\n",
      "Attempt 13: polysacahhride\n",
      "Attempt 14: polysacdhsride\n",
      "Attempt 15: polysacshhride\n",
      "Attempt 16: polysacrhlride\n",
      "Attempt 17: polysacdhpride\n",
      "Attempt 18: polysacrhdride\n",
      "Attempt 19: polysacoheride\n",
      "Attempt 20: polysacdhiride\n",
      "Attempt 21: polysacphdride\n",
      "Attempt 22: polysacshlride\n",
      "Attempt 23: polysacdharide\n",
      "Attempt 24: polysacsharide\n",
      "Attempt 25: polysacyharide\n",
      "Attempt 26: polysacrharide\n",
      "Attempt 27: polysacaharide\n",
      "Attempt 31: polysaciharide\n",
      "Attempt 32: polysaclharide\n",
      "Attempt 36: polysaceharide\n",
      "Attempt 42: polysachharide\n",
      "Attempt 48: polysaccharide\n",
      "\n",
      "Solved in 48 attempts!\n",
      "Final Answer: polysaccharide\n"
     ]
    },
    {
     "data": {
      "text/plain": [
       "True"
      ]
     },
     "execution_count": 71,
     "metadata": {},
     "output_type": "execute_result"
    }
   ],
   "source": [
    "solver = WordleSolver(size=14)\n",
    "solver.solve_random()"
   ]
  },
  {
   "cell_type": "code",
   "execution_count": 75,
   "metadata": {},
   "outputs": [
    {
     "name": "stdout",
     "output_type": "stream",
     "text": [
      "Attempt 1: jiafb\n",
      "Error Status Code: 400\n",
      "Error detail: b'Guess must be the same length as the word'\n",
      "\n",
      "Failed to solve within 1 attempts\n"
     ]
    },
    {
     "data": {
      "text/plain": [
       "False"
      ]
     },
     "execution_count": 75,
     "metadata": {},
     "output_type": "execute_result"
    }
   ],
   "source": [
    "solver = WordleSolver(size=5)\n",
    "solver.solve_word(\"pieces\")"
   ]
  }
 ],
 "metadata": {
  "kernelspec": {
   "display_name": "ocbc_env",
   "language": "python",
   "name": "python3"
  },
  "language_info": {
   "codemirror_mode": {
    "name": "ipython",
    "version": 3
   },
   "file_extension": ".py",
   "mimetype": "text/x-python",
   "name": "python",
   "nbconvert_exporter": "python",
   "pygments_lexer": "ipython3",
   "version": "3.9.19"
  }
 },
 "nbformat": 4,
 "nbformat_minor": 2
}
